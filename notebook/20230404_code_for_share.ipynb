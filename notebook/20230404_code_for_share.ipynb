{
 "cells": [
  {
   "cell_type": "code",
   "execution_count": 1,
   "metadata": {},
   "outputs": [],
   "source": [
    "%reload_ext autoreload\n",
    "%autoreload 2\n",
    "%matplotlib inline\n",
    "import pandas as pd\n",
    "import numpy as np\n",
    "from tqdm import tnrange\n",
    "from tqdm.notebook import tqdm\n",
    "import matplotlib.pyplot as plt\n",
    "import pickle\n",
    "import copy\n",
    "from IPython import display\n",
    "import time\n",
    "import sys\n",
    "import japanize_matplotlib\n",
    "import networkx as nx\n",
    "from wordcloud import WordCloud, STOPWORDS\n",
    "import ast\n",
    "import glob\n",
    "import requests\n",
    "tqdm.pandas()"
   ]
  },
  {
   "cell_type": "code",
   "execution_count": 2,
   "metadata": {},
   "outputs": [
    {
     "name": "stderr",
     "output_type": "stream",
     "text": [
      "2023-04-05 05:07:26,330:18:DEBUG:hello\n"
     ]
    }
   ],
   "source": [
    "\n",
    "from logging import getLogger, StreamHandler, DEBUG, INFO, FileHandler, Formatter\n",
    "logger = getLogger(__name__)\n",
    "sthandler = StreamHandler()\n",
    "sthandler.setLevel(DEBUG)\n",
    "\n",
    "filehandler = FileHandler(\"logger.log\")\n",
    "filehandler.setLevel(DEBUG)\n",
    "\n",
    "formatter = Formatter('%(asctime)s:%(lineno)d:%(levelname)s:%(message)s')\n",
    "filehandler.setFormatter(formatter)\n",
    "sthandler.setFormatter(formatter)\n",
    "\n",
    "logger.addHandler(sthandler)\n",
    "logger.addHandler(filehandler)\n",
    "logger.setLevel(DEBUG)\n",
    "logger.propagate = False\n",
    "\n",
    "logger.debug('hello')  "
   ]
  },
  {
   "cell_type": "code",
   "execution_count": 3,
   "metadata": {},
   "outputs": [],
   "source": [
    "with open('df_fake_claim.pickle', mode='rb') as f:\n",
    "    df_fake_claim = pickle.load(f)"
   ]
  },
  {
   "cell_type": "code",
   "execution_count": 4,
   "metadata": {},
   "outputs": [
    {
     "data": {
      "text/plain": [
       "(10190, 33)"
      ]
     },
     "execution_count": 4,
     "metadata": {},
     "output_type": "execute_result"
    }
   ],
   "source": [
    "df_fake_claim.shape"
   ]
  },
  {
   "cell_type": "code",
   "execution_count": 5,
   "metadata": {},
   "outputs": [],
   "source": [
    "with open('df_fake_url.pickle', mode='rb') as f:\n",
    "    df_fake_url = pickle.load(f)"
   ]
  },
  {
   "cell_type": "code",
   "execution_count": 6,
   "metadata": {},
   "outputs": [
    {
     "data": {
      "text/plain": [
       "(333470, 32)"
      ]
     },
     "execution_count": 6,
     "metadata": {},
     "output_type": "execute_result"
    }
   ],
   "source": [
    "df_fake_url.shape"
   ]
  },
  {
   "cell_type": "code",
   "execution_count": 7,
   "metadata": {},
   "outputs": [],
   "source": [
    "fake_ids = list(set(list(df_fake_url.index) + list(df_fake_claim.index)))"
   ]
  },
  {
   "cell_type": "code",
   "execution_count": 8,
   "metadata": {},
   "outputs": [
    {
     "data": {
      "text/plain": [
       "343549"
      ]
     },
     "execution_count": 8,
     "metadata": {},
     "output_type": "execute_result"
    }
   ],
   "source": [
    "len(fake_ids)"
   ]
  },
  {
   "cell_type": "markdown",
   "metadata": {},
   "source": [
    "## reply"
   ]
  },
  {
   "cell_type": "code",
   "execution_count": 11,
   "metadata": {},
   "outputs": [],
   "source": [
    "with open('df_reply.pickle', mode='rb') as f:\n",
    "    df_reply = pickle.load(f)"
   ]
  },
  {
   "cell_type": "code",
   "execution_count": 12,
   "metadata": {
    "scrolled": true
   },
   "outputs": [
    {
     "data": {
      "text/plain": [
       "(1190643, 25)"
      ]
     },
     "execution_count": 12,
     "metadata": {},
     "output_type": "execute_result"
    }
   ],
   "source": [
    "df_reply.shape"
   ]
  },
  {
   "cell_type": "code",
   "execution_count": 13,
   "metadata": {},
   "outputs": [
    {
     "data": {
      "text/plain": [
       "claim_based     1011179\n",
       "domain_based     179464\n",
       "Name: type_of_fake, dtype: int64"
      ]
     },
     "execution_count": 13,
     "metadata": {},
     "output_type": "execute_result"
    }
   ],
   "source": [
    "df_reply[\"type_of_fake\"].value_counts()"
   ]
  },
  {
   "cell_type": "code",
   "execution_count": 14,
   "metadata": {},
   "outputs": [
    {
     "data": {
      "text/plain": [
       "0    650630\n",
       "1    540013\n",
       "Name: pred, dtype: int64"
      ]
     },
     "execution_count": 14,
     "metadata": {},
     "output_type": "execute_result"
    }
   ],
   "source": [
    "df_reply[\"pred\"].value_counts()"
   ]
  },
  {
   "cell_type": "code",
   "execution_count": 15,
   "metadata": {},
   "outputs": [
    {
     "data": {
      "text/html": [
       "<div>\n",
       "<style scoped>\n",
       "    .dataframe tbody tr th:only-of-type {\n",
       "        vertical-align: middle;\n",
       "    }\n",
       "\n",
       "    .dataframe tbody tr th {\n",
       "        vertical-align: top;\n",
       "    }\n",
       "\n",
       "    .dataframe thead th {\n",
       "        text-align: right;\n",
       "    }\n",
       "</style>\n",
       "<table border=\"1\" class=\"dataframe\">\n",
       "  <thead>\n",
       "    <tr style=\"text-align: right;\">\n",
       "      <th>pred</th>\n",
       "      <th>0</th>\n",
       "      <th>1</th>\n",
       "    </tr>\n",
       "    <tr>\n",
       "      <th>type_of_fake</th>\n",
       "      <th></th>\n",
       "      <th></th>\n",
       "    </tr>\n",
       "  </thead>\n",
       "  <tbody>\n",
       "    <tr>\n",
       "      <th>claim_based</th>\n",
       "      <td>529641</td>\n",
       "      <td>481538</td>\n",
       "    </tr>\n",
       "    <tr>\n",
       "      <th>domain_based</th>\n",
       "      <td>120989</td>\n",
       "      <td>58475</td>\n",
       "    </tr>\n",
       "  </tbody>\n",
       "</table>\n",
       "</div>"
      ],
      "text/plain": [
       "pred               0       1\n",
       "type_of_fake                \n",
       "claim_based   529641  481538\n",
       "domain_based  120989   58475"
      ]
     },
     "execution_count": 15,
     "metadata": {},
     "output_type": "execute_result"
    }
   ],
   "source": [
    "df_reply.groupby(\"type_of_fake\")[\"pred\"].value_counts().unstack()"
   ]
  },
  {
   "cell_type": "markdown",
   "metadata": {},
   "source": [
    "## quote"
   ]
  },
  {
   "cell_type": "code",
   "execution_count": 16,
   "metadata": {},
   "outputs": [],
   "source": [
    "with open('df_quote.pickle', mode='rb') as f:\n",
    "    df_quote = pickle.load(f)"
   ]
  },
  {
   "cell_type": "code",
   "execution_count": 18,
   "metadata": {},
   "outputs": [
    {
     "data": {
      "text/plain": [
       "(527007, 25)"
      ]
     },
     "execution_count": 18,
     "metadata": {},
     "output_type": "execute_result"
    }
   ],
   "source": [
    "df_quote.shape"
   ]
  },
  {
   "cell_type": "code",
   "execution_count": 17,
   "metadata": {},
   "outputs": [
    {
     "data": {
      "text/plain": [
       "claim_based     470349\n",
       "domain_based     56658\n",
       "Name: type_of_fake, dtype: int64"
      ]
     },
     "execution_count": 17,
     "metadata": {},
     "output_type": "execute_result"
    }
   ],
   "source": [
    "df_quote[\"type_of_fake\"].value_counts()"
   ]
  },
  {
   "cell_type": "code",
   "execution_count": 19,
   "metadata": {},
   "outputs": [
    {
     "data": {
      "text/html": [
       "<div>\n",
       "<style scoped>\n",
       "    .dataframe tbody tr th:only-of-type {\n",
       "        vertical-align: middle;\n",
       "    }\n",
       "\n",
       "    .dataframe tbody tr th {\n",
       "        vertical-align: top;\n",
       "    }\n",
       "\n",
       "    .dataframe thead th {\n",
       "        text-align: right;\n",
       "    }\n",
       "</style>\n",
       "<table border=\"1\" class=\"dataframe\">\n",
       "  <thead>\n",
       "    <tr style=\"text-align: right;\">\n",
       "      <th>pred</th>\n",
       "      <th>0</th>\n",
       "      <th>1</th>\n",
       "    </tr>\n",
       "    <tr>\n",
       "      <th>type_of_fake</th>\n",
       "      <th></th>\n",
       "      <th></th>\n",
       "    </tr>\n",
       "  </thead>\n",
       "  <tbody>\n",
       "    <tr>\n",
       "      <th>claim_based</th>\n",
       "      <td>352572</td>\n",
       "      <td>117777</td>\n",
       "    </tr>\n",
       "    <tr>\n",
       "      <th>domain_based</th>\n",
       "      <td>47214</td>\n",
       "      <td>9444</td>\n",
       "    </tr>\n",
       "  </tbody>\n",
       "</table>\n",
       "</div>"
      ],
      "text/plain": [
       "pred               0       1\n",
       "type_of_fake                \n",
       "claim_based   352572  117777\n",
       "domain_based   47214    9444"
      ]
     },
     "execution_count": 19,
     "metadata": {},
     "output_type": "execute_result"
    }
   ],
   "source": [
    "df_quote.groupby(\"type_of_fake\")[\"pred\"].value_counts().unstack()"
   ]
  },
  {
   "cell_type": "markdown",
   "metadata": {},
   "source": [
    "## stats"
   ]
  },
  {
   "cell_type": "code",
   "execution_count": 23,
   "metadata": {},
   "outputs": [],
   "source": [
    "tmp_map = df_quote[\"to_quote_id\"].value_counts()\n",
    "tmp_map.index = tmp_map.index.astype(str)\n",
    "tmp_map = tmp_map.to_dict()\n",
    "df_fake_url[\"quoted_count\"] = df_fake_url.index.map(tmp_map)\n",
    "df_fake_url[\"quoted_count\"] = df_fake_url[\"quoted_count\"].fillna(0)\n",
    "df_fake_claim[\"quoted_count\"] = df_fake_claim.index.map(tmp_map)\n",
    "df_fake_claim[\"quoted_count\"] = df_fake_claim[\"quoted_count\"].fillna(0)"
   ]
  },
  {
   "cell_type": "code",
   "execution_count": 24,
   "metadata": {},
   "outputs": [
    {
     "data": {
      "text/plain": [
       "count    10190.000000\n",
       "mean        46.162709\n",
       "std        556.827610\n",
       "min          0.000000\n",
       "25%          0.000000\n",
       "50%          0.000000\n",
       "75%          0.000000\n",
       "max      28669.000000\n",
       "Name: quoted_count, dtype: float64"
      ]
     },
     "execution_count": 24,
     "metadata": {},
     "output_type": "execute_result"
    }
   ],
   "source": [
    "df_fake_claim[\"quoted_count\"].describe()"
   ]
  },
  {
   "cell_type": "code",
   "execution_count": 26,
   "metadata": {
    "scrolled": true
   },
   "outputs": [],
   "source": [
    "tmp_map = df_quote[df_quote[\"pred\"]==1][\"to_quote_id\"].value_counts()\n",
    "tmp_map.index = tmp_map.index.astype(str)\n",
    "tmp_map = tmp_map.to_dict()\n",
    "df_fake_url[\"quoted_count_debunk\"] = df_fake_url.index.map(tmp_map)\n",
    "df_fake_url[\"quoted_count_debunk\"] = df_fake_url[\"quoted_count_debunk\"].fillna(0)"
   ]
  },
  {
   "cell_type": "code",
   "execution_count": 27,
   "metadata": {},
   "outputs": [
    {
     "data": {
      "text/plain": [
       "count    333470.000000\n",
       "mean          0.028320\n",
       "std           1.954931\n",
       "min           0.000000\n",
       "25%           0.000000\n",
       "50%           0.000000\n",
       "75%           0.000000\n",
       "max        1020.000000\n",
       "Name: quoted_count_debunk, dtype: float64"
      ]
     },
     "execution_count": 27,
     "metadata": {},
     "output_type": "execute_result"
    }
   ],
   "source": [
    "df_fake_url[\"quoted_count_debunk\"].describe()"
   ]
  },
  {
   "cell_type": "code",
   "execution_count": 28,
   "metadata": {},
   "outputs": [],
   "source": [
    "df_fake_claim[\"quoted_count_debunk\"] = df_fake_claim.index.map(tmp_map)\n",
    "df_fake_claim[\"quoted_count_debunk\"] = df_fake_claim[\"quoted_count_debunk\"].fillna(0)"
   ]
  },
  {
   "cell_type": "code",
   "execution_count": 29,
   "metadata": {},
   "outputs": [
    {
     "data": {
      "text/plain": [
       "count    10190.000000\n",
       "mean        11.558292\n",
       "std        163.286969\n",
       "min          0.000000\n",
       "25%          0.000000\n",
       "50%          0.000000\n",
       "75%          0.000000\n",
       "max       9349.000000\n",
       "Name: quoted_count_debunk, dtype: float64"
      ]
     },
     "execution_count": 29,
     "metadata": {},
     "output_type": "execute_result"
    }
   ],
   "source": [
    "df_fake_claim[\"quoted_count_debunk\"].describe()"
   ]
  },
  {
   "cell_type": "code",
   "execution_count": 30,
   "metadata": {},
   "outputs": [],
   "source": [
    "tmp_map = df_reply[\"to_reply_id\"].value_counts()\n",
    "tmp_map.index = tmp_map.index.astype(str)\n",
    "tmp_map = tmp_map.to_dict()\n",
    "df_fake_url[\"replied_count\"] = df_fake_url.index.map(tmp_map)\n",
    "df_fake_url[\"replied_count\"] = df_fake_url[\"replied_count\"].fillna(0)"
   ]
  },
  {
   "cell_type": "code",
   "execution_count": 31,
   "metadata": {},
   "outputs": [
    {
     "data": {
      "text/plain": [
       "count    333470.000000\n",
       "mean          0.538171\n",
       "std          27.984044\n",
       "min           0.000000\n",
       "25%           0.000000\n",
       "50%           0.000000\n",
       "75%           0.000000\n",
       "max       14648.000000\n",
       "Name: replied_count, dtype: float64"
      ]
     },
     "execution_count": 31,
     "metadata": {},
     "output_type": "execute_result"
    }
   ],
   "source": [
    "df_fake_url[\"replied_count\"].describe()"
   ]
  },
  {
   "cell_type": "code",
   "execution_count": 32,
   "metadata": {},
   "outputs": [],
   "source": [
    "df_fake_claim[\"replied_count\"] = df_fake_claim.index.map(tmp_map)\n",
    "df_fake_claim[\"replied_count\"] = df_fake_claim[\"replied_count\"].fillna(0)"
   ]
  },
  {
   "cell_type": "code",
   "execution_count": 33,
   "metadata": {},
   "outputs": [
    {
     "data": {
      "text/plain": [
       "count    10190.000000\n",
       "mean        99.237880\n",
       "std       1006.568247\n",
       "min          0.000000\n",
       "25%          0.000000\n",
       "50%          0.000000\n",
       "75%          0.000000\n",
       "max      37428.000000\n",
       "Name: replied_count, dtype: float64"
      ]
     },
     "execution_count": 33,
     "metadata": {},
     "output_type": "execute_result"
    }
   ],
   "source": [
    "df_fake_claim[\"replied_count\"].describe()"
   ]
  },
  {
   "cell_type": "code",
   "execution_count": 34,
   "metadata": {},
   "outputs": [],
   "source": [
    "tmp_map = df_reply[df_reply[\"pred\"]==1][\"to_reply_id\"].value_counts()\n",
    "tmp_map.index = tmp_map.index.astype(str)\n",
    "tmp_map = tmp_map.to_dict()\n",
    "df_fake_url[\"replied_count_debunk\"] = df_fake_url.index.map(tmp_map)\n",
    "df_fake_url[\"replied_count_debunk\"] = df_fake_url[\"replied_count_debunk\"].fillna(0)"
   ]
  },
  {
   "cell_type": "code",
   "execution_count": 35,
   "metadata": {},
   "outputs": [
    {
     "data": {
      "text/plain": [
       "count    333470.000000\n",
       "mean          0.175353\n",
       "std          22.454537\n",
       "min           0.000000\n",
       "25%           0.000000\n",
       "50%           0.000000\n",
       "75%           0.000000\n",
       "max       12598.000000\n",
       "Name: replied_count_debunk, dtype: float64"
      ]
     },
     "execution_count": 35,
     "metadata": {},
     "output_type": "execute_result"
    }
   ],
   "source": [
    "df_fake_url[\"replied_count_debunk\"].describe()"
   ]
  },
  {
   "cell_type": "code",
   "execution_count": 36,
   "metadata": {},
   "outputs": [],
   "source": [
    "df_fake_claim[\"replied_count_debunk\"] = df_fake_claim.index.map(tmp_map)\n",
    "df_fake_claim[\"replied_count_debunk\"] = df_fake_claim[\"replied_count_debunk\"].fillna(0)"
   ]
  },
  {
   "cell_type": "code",
   "execution_count": 37,
   "metadata": {},
   "outputs": [
    {
     "data": {
      "text/plain": [
       "count    10190.000000\n",
       "mean        47.257115\n",
       "std        570.785136\n",
       "min          0.000000\n",
       "25%          0.000000\n",
       "50%          0.000000\n",
       "75%          0.000000\n",
       "max      25544.000000\n",
       "Name: replied_count_debunk, dtype: float64"
      ]
     },
     "execution_count": 37,
     "metadata": {},
     "output_type": "execute_result"
    }
   ],
   "source": [
    "df_fake_claim[\"replied_count_debunk\"].describe()"
   ]
  },
  {
   "cell_type": "markdown",
   "metadata": {},
   "source": [
    "## zipf"
   ]
  },
  {
   "cell_type": "code",
   "execution_count": 39,
   "metadata": {},
   "outputs": [],
   "source": [
    "from scipy.stats import zipf, kstest"
   ]
  },
  {
   "cell_type": "code",
   "execution_count": 40,
   "metadata": {
    "scrolled": false
   },
   "outputs": [
    {
     "name": "stdout",
     "output_type": "stream",
     "text": [
      "claim_based\n",
      "to_reply_id\n",
      "all\n"
     ]
    },
    {
     "data": {
      "application/vnd.jupyter.widget-view+json": {
       "model_id": "986242968b73405f8b3f2f3c0625751b",
       "version_major": 2,
       "version_minor": 0
      },
      "text/plain": [
       "  0%|          | 0/1000 [00:00<?, ?it/s]"
      ]
     },
     "metadata": {},
     "output_type": "display_data"
    },
    {
     "name": "stdout",
     "output_type": "stream",
     "text": [
      "1.306402902902903\n",
      "KstestResult(statistic=0.9995454545454545, pvalue=0.0)\n",
      "debunking\n"
     ]
    },
    {
     "data": {
      "application/vnd.jupyter.widget-view+json": {
       "model_id": "c07e32001461460fa84918a7723883b4",
       "version_major": 2,
       "version_minor": 0
      },
      "text/plain": [
       "  0%|          | 0/1000 [00:00<?, ?it/s]"
      ]
     },
     "metadata": {},
     "output_type": "display_data"
    },
    {
     "name": "stdout",
     "output_type": "stream",
     "text": [
      "1.3154118118118119\n",
      "KstestResult(statistic=0.9993425378040762, pvalue=0.0)\n",
      "claim_based\n",
      "to_quote_id\n",
      "all\n"
     ]
    },
    {
     "data": {
      "application/vnd.jupyter.widget-view+json": {
       "model_id": "dc708b93990d4dfb8d9a3bf63478066d",
       "version_major": 2,
       "version_minor": 0
      },
      "text/plain": [
       "  0%|          | 0/1000 [00:00<?, ?it/s]"
      ]
     },
     "metadata": {},
     "output_type": "display_data"
    },
    {
     "name": "stdout",
     "output_type": "stream",
     "text": [
      "1.306402902902903\n",
      "KstestResult(statistic=0.9994694960212201, pvalue=0.0)\n",
      "debunking\n"
     ]
    },
    {
     "data": {
      "application/vnd.jupyter.widget-view+json": {
       "model_id": "9eae265191fa4e559165c02ee35015db",
       "version_major": 2,
       "version_minor": 0
      },
      "text/plain": [
       "  0%|          | 0/1000 [00:00<?, ?it/s]"
      ]
     },
     "metadata": {},
     "output_type": "display_data"
    },
    {
     "name": "stdout",
     "output_type": "stream",
     "text": [
      "1.3514474474474474\n",
      "KstestResult(statistic=0.9991554054054054, pvalue=0.0)\n",
      "domain_based\n",
      "to_reply_id\n",
      "all\n"
     ]
    },
    {
     "data": {
      "application/vnd.jupyter.widget-view+json": {
       "model_id": "511f124a893e4539b4e04bd7193cfc2b",
       "version_major": 2,
       "version_minor": 0
      },
      "text/plain": [
       "  0%|          | 0/1000 [00:00<?, ?it/s]"
      ]
     },
     "metadata": {},
     "output_type": "display_data"
    },
    {
     "name": "stdout",
     "output_type": "stream",
     "text": [
      "1.9370265265265265\n",
      "KstestResult(statistic=0.9999669923422234, pvalue=0.0)\n",
      "debunking\n"
     ]
    },
    {
     "data": {
      "application/vnd.jupyter.widget-view+json": {
       "model_id": "bd6bd35987224b2ba137385e4d091364",
       "version_major": 2,
       "version_minor": 0
      },
      "text/plain": [
       "  0%|          | 0/1000 [00:00<?, ?it/s]"
      ]
     },
     "metadata": {},
     "output_type": "display_data"
    },
    {
     "name": "stdout",
     "output_type": "stream",
     "text": [
      "2.099186886886887\n",
      "KstestResult(statistic=0.9999047981721249, pvalue=0.0)\n",
      "domain_based\n",
      "to_quote_id\n",
      "all\n"
     ]
    },
    {
     "data": {
      "application/vnd.jupyter.widget-view+json": {
       "model_id": "76135532c49848109be67865549fe616",
       "version_major": 2,
       "version_minor": 0
      },
      "text/plain": [
       "  0%|          | 0/1000 [00:00<?, ?it/s]"
      ]
     },
     "metadata": {},
     "output_type": "display_data"
    },
    {
     "name": "stdout",
     "output_type": "stream",
     "text": [
      "2.0901779779779783\n",
      "KstestResult(statistic=0.9999417453104975, pvalue=0.0)\n",
      "debunking\n"
     ]
    },
    {
     "data": {
      "application/vnd.jupyter.widget-view+json": {
       "model_id": "78d40431a1844c98af4b50118bd9ebc3",
       "version_major": 2,
       "version_minor": 0
      },
      "text/plain": [
       "  0%|          | 0/1000 [00:00<?, ?it/s]"
      ]
     },
     "metadata": {},
     "output_type": "display_data"
    },
    {
     "name": "stdout",
     "output_type": "stream",
     "text": [
      "2.3694541541541545\n",
      "KstestResult(statistic=0.99970836978711, pvalue=0.0)\n"
     ]
    },
    {
     "data": {
      "image/png": "[encoded data removed]",
      "text/plain": [
       "<Figure size 648x360 with 5 Axes>"
      ]
     },
     "metadata": {
      "needs_background": "light"
     },
     "output_type": "display_data"
    }
   ],
   "source": [
    "#plt.figure(figsize=(4,2))\n",
    "fig, axs = plt.subplots(2, 2, figsize=(9,5))\n",
    "\n",
    "\n",
    "axs[0, 0].set_yscale('log')\n",
    "axs[0, 0].set_xscale('log')\n",
    "axs[1, 0].set_yscale('log')\n",
    "axs[1, 0].set_xscale('log')\n",
    "axs[0, 1].set_yscale('log')\n",
    "axs[0, 1].set_xscale('log')\n",
    "axs[1, 1].set_yscale('log')\n",
    "axs[1, 1].set_xscale('log')\n",
    "\n",
    "for i, type_ in enumerate([\"claim_based\", \"domain_based\"]):\n",
    "    for j, df_ in enumerate([df_reply, df_quote]):\n",
    "        if j == 0:\n",
    "            col = \"to_reply_id\"\n",
    "        else:\n",
    "            col = \"to_quote_id\"\n",
    "        a = df_[df_[\"type_of_fake\"] == type_][col].value_counts()\n",
    "        b = df_[(df_[\"pred\"]==1)&(df_[\"type_of_fake\"] == type_)][col].value_counts()\n",
    "        axs[i, j].scatter(x=a.rank(ascending=False).values, y=a.values, label=\"Response\")\n",
    "        axs[i, j].scatter(x=b.rank(ascending=False).values, y=b.values, marker=\"x\", label=\"Debunking\")\n",
    "\n",
    "#         axs[i, j].set_xticklabels(axs[i, j].get_xticklabels(), fontsize=14)\n",
    "\n",
    "        print(type_)\n",
    "        print(col)\n",
    "        print(\"all\")\n",
    "        tmp_list = []\n",
    "        for ii in tqdm(np.linspace(1.0001, 10.0, 1000)):\n",
    "            x = np.log(zipf.pmf(a.values, a = ii)).mean()\n",
    "            #print(i/100, x)\n",
    "            tmp_list.append((ii, x))\n",
    "\n",
    "        max_ = pd.DataFrame(tmp_list).sort_values(1).iloc[-1, 0]\n",
    "        print(max_)\n",
    "        print(kstest(a.values/a.max(), zipf(a=max_).cdf))\n",
    "        \n",
    "        print(\"debunking\")\n",
    "        tmp_list = []\n",
    "        for ii in tqdm(np.linspace(1.0001, 10.0, 1000)):\n",
    "            x = np.log(zipf.pmf(b.values, a = ii)).mean()\n",
    "            #print(i/100, x)\n",
    "            tmp_list.append((ii, x))\n",
    "\n",
    "        max_ = pd.DataFrame(tmp_list).sort_values(1).iloc[-1, 0]\n",
    "        print(max_)\n",
    "        print(kstest(b.values/b.max(), zipf(a=max_).cdf))\n",
    "\n",
    "\n",
    "        axs[i, j].tick_params(axis='both', labelsize=14)\n",
    "        if i == 0:\n",
    "            if j == 0:\n",
    "                axs[i, j].set_title(\"Replies to claim-based\", fontsize=20)\n",
    "            else:\n",
    "                axs[i, j].set_title(\"QTs to claim-based\", fontsize=20)\n",
    "        else:\n",
    "            if j == 0:\n",
    "                axs[i, j].set_title(\"Replies to domain-based\", fontsize=20)\n",
    "            else:\n",
    "                axs[i, j].set_title(\"QTs to domain-based\", fontsize=20)\n",
    "\n",
    "#ax.legend(fontsize=14)\n",
    "\n",
    "# plt.xticks(fontsize=16)#, rotation=45)\n",
    "# plt.yticks(fontsize=16)\n",
    "fig.add_subplot(111, frameon=False)\n",
    "plt.tick_params(labelcolor='none', which='both', top=False, bottom=False, left=False, right=False)\n",
    "plt.ylabel(\"Frequency\", size=24, labelpad=15)\n",
    "plt.xlabel(\"Rank\", size=24, labelpad=0)\n",
    "fig.tight_layout()\n",
    "handles, labels = axs[i, j].get_legend_handles_labels()\n",
    "fig.legend(handles, labels, loc='upper center', ncol= 2, bbox_to_anchor=(0.55, 1.1), fontsize=16, scatterpoints=5)\n",
    "\n",
    "# #plt.show()\n",
    "# plt.savefig(\"figures/freq_rank_all.pdf\", format=\"pdf\", dpi=300, bbox_inches='tight')\n",
    "\n",
    "plt.show()"
   ]
  },
  {
   "cell_type": "code",
   "execution_count": 41,
   "metadata": {},
   "outputs": [
    {
     "name": "stdout",
     "output_type": "stream",
     "text": [
      "KstestResult(statistic=0.9999417453104975, pvalue=0.0)\n"
     ]
    }
   ],
   "source": [
    "print(kstest(a.values/a.max(), zipf(a=max_).cdf))"
   ]
  },
  {
   "cell_type": "code",
   "execution_count": 42,
   "metadata": {},
   "outputs": [],
   "source": [
    "from scipy.stats import kstest, zipf, norm, ks_2samp"
   ]
  },
  {
   "cell_type": "code",
   "execution_count": 43,
   "metadata": {},
   "outputs": [
    {
     "name": "stdout",
     "output_type": "stream",
     "text": [
      "KstestResult(statistic=0.9754150728083949, pvalue=0.0)\n"
     ]
    }
   ],
   "source": [
    "print(kstest(a.values, zipf(a=5.5).cdf))"
   ]
  },
  {
   "cell_type": "markdown",
   "metadata": {},
   "source": [
    "## Others vs debunking"
   ]
  },
  {
   "cell_type": "code",
   "execution_count": 44,
   "metadata": {},
   "outputs": [],
   "source": [
    "df_fake_claim[\"replied_count_other\"] = df_fake_claim[\"replied_count\"] - df_fake_claim[\"replied_count_debunk\"]\n",
    "df_fake_claim[\"quoted_count_other\"] = df_fake_claim[\"quoted_count\"] - df_fake_claim[\"quoted_count_debunk\"]\n",
    "df_fake_url[\"replied_count_other\"] = df_fake_url[\"replied_count\"] - df_fake_url[\"replied_count_debunk\"]\n",
    "df_fake_url[\"quoted_count_other\"] = df_fake_url[\"quoted_count\"] - df_fake_url[\"quoted_count_debunk\"]"
   ]
  },
  {
   "cell_type": "code",
   "execution_count": 45,
   "metadata": {},
   "outputs": [],
   "source": [
    "import matplotlib.cm as cm\n",
    "import matplotlib as mpl"
   ]
  },
  {
   "cell_type": "code",
   "execution_count": 46,
   "metadata": {},
   "outputs": [],
   "source": [
    "from scipy.stats import pearsonr"
   ]
  },
  {
   "cell_type": "code",
   "execution_count": 48,
   "metadata": {},
   "outputs": [
    {
     "name": "stdout",
     "output_type": "stream",
     "text": [
      "replied\n",
      "(0.5267153014651282, 0.0)\n",
      "(0.16790550764119033, 1.9364610020873198e-15)\n",
      "==============================\n",
      "quoted\n",
      "(0.48641029105946876, 0.0)\n",
      "(0.13792507964162, 1.716400500743439e-09)\n",
      "==============================\n",
      "replied\n",
      "(0.5857374282896383, 0.0)\n",
      "(0.027135337940917655, 2.3149752314109943e-06)\n",
      "==============================\n",
      "quoted\n",
      "(0.5428580800562003, 0.0)\n",
      "(0.08391244402010689, 3.31695630403883e-28)\n",
      "==============================\n"
     ]
    },
    {
     "name": "stderr",
     "output_type": "stream",
     "text": [
      "<ipython-input-48-7cfef949d011>:77: UserWarning: This figure includes Axes that are not compatible with tight_layout, so results might be incorrect.\n",
      "  fig.tight_layout()\n"
     ]
    },
    {
     "data": {
      "image/png": "[encoded data removed]",
      "text/plain": [
       "<Figure size 648x360 with 6 Axes>"
      ]
     },
     "metadata": {
      "needs_background": "light"
     },
     "output_type": "display_data"
    }
   ],
   "source": [
    "#plt.figure(figsize=(4,2))\n",
    "fig, axs = plt.subplots(2, 2, figsize=(9,5))\n",
    "\n",
    "\n",
    "axs[0, 0].set_yscale('log')\n",
    "axs[0, 0].set_xscale('log')\n",
    "axs[1, 0].set_yscale('log')\n",
    "axs[1, 0].set_xscale('log')\n",
    "axs[0, 1].set_yscale('log')\n",
    "axs[0, 1].set_xscale('log')\n",
    "axs[1, 1].set_yscale('log')\n",
    "axs[1, 1].set_xscale('log')\n",
    "\n",
    "\n",
    "xbins = 10**np.linspace(0, 5, 40)\n",
    "ybins = 10**np.linspace(0, 5, 40)\n",
    "\n",
    "\n",
    "for i, df_ in enumerate([df_fake_claim, df_fake_url]):\n",
    "    for j, type_ in enumerate([\"replied\", \"quoted\"]):\n",
    "        counts, _, _ = np.histogram2d(df_[\"%s_count_other\"%type_], df_[\"%s_count_debunk\"%type_], bins=(xbins, ybins))\n",
    "        #counts, _, _ = np.histogram2d(df_[\"%s_count_debunk\"%type_], df_[\"%s_count_other\"%type_], bins=(xbins, ybins))\n",
    "        #counts, _, _ = np.histogram2d(df_[\"%s_count_debunk\"%type_], df_[\"%s_count\"%type_], bins=(xbins, ybins))\n",
    "        im = axs[i,j].pcolormesh(xbins, ybins, counts.T, cmap=\"YlOrRd\", norm=mpl.colors.LogNorm())\n",
    "        \n",
    "        print(type_)\n",
    "        print(pearsonr(df_[\"%s_count_debunk\"%type_], df_[\"%s_count_other\"%type_]))\n",
    "#         print(np.corrcoef(df_[\"%s_count_debunk\"%type_], df_[\"%s_count\"%type_]))\n",
    "        #print(np.corrcoef(df_[\"%s_count_debunk\"%type_], df_[\"%s_count_debunk\"%type_]/df_[\"%s_count\"%type_]))\n",
    "        tmp_index = df_[df_[\"%s_count\"%type_]!=0].index\n",
    "#         print(np.corrcoef(\n",
    "#             df_.loc[tmp_index, \"%s_count_debunk\"%type_], \n",
    "#             #df_.loc[tmp_index, \"%s_count_debunk\"%type_] / df_.loc[tmp_index, \"%s_count\"%type_] \n",
    "#             df_.loc[tmp_index, \"%s_count_other\"%type_] \n",
    "#         ))\n",
    "#         print(np.corrcoef(\n",
    "#             df_.loc[tmp_index, \"%s_count_debunk\"%type_], \n",
    "#             #df_.loc[tmp_index, \"%s_count_debunk\"%type_] / df_.loc[tmp_index, \"%s_count\"%type_] \n",
    "#             df_.loc[tmp_index, \"%s_count\"%type_] \n",
    "#         ))\n",
    "        print(pearsonr(\n",
    "            df_.loc[tmp_index, \"%s_count_debunk\"%type_], \n",
    "            df_.loc[tmp_index, \"%s_count_debunk\"%type_] / df_.loc[tmp_index, \"%s_count\"%type_] \n",
    "            #df_.loc[tmp_index, \"%s_count\"%type_] \n",
    "        ))\n",
    "        print(\"===\"*10)\n",
    "#         axs[i, j].scatter(df_fake_claim[\"%s_count_debunk\"%type_], df_fake_claim[\"%s_count_other\"%type_], alpha=0.2)\n",
    "#         axs[i, j].set_xscale(\"log\")\n",
    "#         axs[i, j].set_yscale(\"log\")\n",
    "#         axs[i, j].set_xlim([1/2,10**5])\n",
    "#         axs[i, j].set_ylim([1/2,10**5])      \n",
    "        \n",
    "        axs[i, j].plot([0, 10**5], [0, 10**5], ls=\"--\", c=\".3\")\n",
    "\n",
    "        axs[i, j].tick_params(axis='both', labelsize=14)\n",
    "        if i == 0:\n",
    "            if j == 0:\n",
    "                axs[i, j].set_title(\"Replies to claim-based\", fontsize=20)\n",
    "            else:\n",
    "                axs[i, j].set_title(\"QTs to claim-based\", fontsize=20)\n",
    "        else:\n",
    "            if j == 0:\n",
    "                axs[i, j].set_title(\"Replies to domain-based\", fontsize=20)\n",
    "            else:\n",
    "                axs[i, j].set_title(\"QTs to domain-based\", fontsize=20)\n",
    "\n",
    "fig.subplots_adjust(right=0.8)\n",
    "cbar_ax = fig.add_axes([1.0, 0.2, 0.05, 0.7])\n",
    "cbar = fig.colorbar(im, cax=cbar_ax)\n",
    "for t in cbar.ax.get_yticklabels():\n",
    "     t.set_fontsize(14)\n",
    "\n",
    "fig.add_subplot(111, frameon=False)\n",
    "plt.tick_params(labelcolor='none', which='both', top=False, bottom=False, left=False, right=False)\n",
    "plt.xlabel(\"Count of Others\", size=24, labelpad=15)\n",
    "plt.ylabel(\"Count of Debunking\", size=24, labelpad=10)\n",
    "fig.tight_layout()\n",
    "# handles, labels = axs[i, j].get_legend_handles_labels()\n",
    "#fig.legend(handles, labels, loc='upper center', ncol= 2, bbox_to_anchor=(0.55, 1.1), fontsize=16, scatterpoints=5)\n",
    "\n",
    "# #plt.show()\n",
    "# plt.savefig(\"figures/debunk_vs_others2.pdf\", format=\"pdf\", dpi=300, bbox_inches='tight')\n",
    "\n",
    "\n",
    "plt.show()"
   ]
  },
  {
   "cell_type": "code",
   "execution_count": 49,
   "metadata": {
    "scrolled": false
   },
   "outputs": [
    {
     "name": "stdout",
     "output_type": "stream",
     "text": [
      "replied\n",
      "[[1.        0.5267153]\n",
      " [0.5267153 1.       ]]\n",
      "[[1.       0.871227]\n",
      " [0.871227 1.      ]]\n",
      "replied\n",
      "[[1.         0.58573743]\n",
      " [0.58573743 1.        ]]\n",
      "[[1.        0.9720557]\n",
      " [0.9720557 1.       ]]\n",
      "quoted\n",
      "[[1.         0.48641029]\n",
      " [0.48641029 1.        ]]\n",
      "[[1.         0.69403833]\n",
      " [0.69403833 1.        ]]\n",
      "quoted\n",
      "[[1.         0.54285808]\n",
      " [0.54285808 1.        ]]\n",
      "[[1.         0.82424499]\n",
      " [0.82424499 1.        ]]\n"
     ]
    },
    {
     "data": {
      "image/png": "[encoded data removed]",
      "text/plain": [
       "<Figure size 648x360 with 5 Axes>"
      ]
     },
     "metadata": {
      "needs_background": "light"
     },
     "output_type": "display_data"
    }
   ],
   "source": [
    "#plt.figure(figsize=(4,2))\n",
    "fig, axs = plt.subplots(2, 2, figsize=(9,5))\n",
    "\n",
    "\n",
    "axs[0, 0].set_yscale('log')\n",
    "axs[0, 0].set_xscale('log')\n",
    "axs[1, 0].set_yscale('log')\n",
    "axs[1, 0].set_xscale('log')\n",
    "axs[0, 1].set_yscale('log')\n",
    "axs[0, 1].set_xscale('log')\n",
    "axs[1, 1].set_yscale('log')\n",
    "axs[1, 1].set_xscale('log')\n",
    "\n",
    "\n",
    "xbins = 10**np.linspace(0, 5, 40)\n",
    "ybins = 10**np.linspace(0, 5, 40)\n",
    "\n",
    "\n",
    "for i, type_ in enumerate([\"replied\", \"quoted\"]):\n",
    "    for j, df_ in enumerate([df_fake_claim, df_fake_url]):\n",
    "        if i == 0:\n",
    "            col = \"to_reply_id\"\n",
    "        else:\n",
    "            col = \"to_quote_id\"\n",
    "        #counts, _, _ = np.histogram2d(df_fake_claim[\"%s_count_debunk\"%type_], df_fake_claim[\"%s_count_other\"%type_], bins=(xbins, ybins))\n",
    "        #im = axs[i,j].pcolormesh(xbins, ybins, counts.T, cmap=\"YlOrRd\", norm=mpl.colors.LogNorm())\n",
    "        \n",
    "        print(type_)\n",
    "        print(np.corrcoef(df_[\"%s_count_debunk\"%type_], df_[\"%s_count_other\"%type_]))\n",
    "        print(np.corrcoef(df_[\"%s_count_debunk\"%type_], df_[\"%s_count\"%type_]))\n",
    "        \n",
    "        axs[i, j].scatter(df_[\"%s_count_debunk\"%type_], df_[\"%s_count_other\"%type_], alpha=0.2)\n",
    "        axs[i, j].set_xscale(\"log\")\n",
    "        axs[i, j].set_yscale(\"log\")\n",
    "        axs[i, j].set_xlim([1/2,10**5])\n",
    "        axs[i, j].set_ylim([1/2,10**5])      \n",
    "        \n",
    "        axs[i, j].plot([0, 10**5], [0, 10**5], ls=\"--\", c=\".3\")\n",
    "\n",
    "        axs[i, j].tick_params(axis='both', labelsize=14)\n",
    "        if i == 0:\n",
    "            if j == 0:\n",
    "                axs[i, j].set_title(\"Replies to claim-based\", fontsize=20)\n",
    "            else:\n",
    "                axs[i, j].set_title(\"QTs to claim-based\", fontsize=20)\n",
    "        else:\n",
    "            if j == 0:\n",
    "                axs[i, j].set_title(\"Replies to domain-based\", fontsize=20)\n",
    "            else:\n",
    "                axs[i, j].set_title(\"QTs to domain-based\", fontsize=20)\n",
    "\n",
    "\n",
    "# fig.subplots_adjust(right=0.8)\n",
    "# cbar_ax = fig.add_axes([1.0, 0.2, 0.05, 0.7])\n",
    "# cbar = fig.colorbar(im, cax=cbar_ax)\n",
    "# for t in cbar.ax.get_yticklabels():\n",
    "#      t.set_fontsize(14)\n",
    "\n",
    "fig.add_subplot(111, frameon=False)\n",
    "plt.tick_params(labelcolor='none', which='both', top=False, bottom=False, left=False, right=False)\n",
    "plt.ylabel(\"Count of others\", size=24, labelpad=15)\n",
    "plt.xlabel(\"Count of debunking\", size=24, labelpad=10)\n",
    "fig.tight_layout()\n",
    "# handles, labels = axs[i, j].get_legend_handles_labels()\n",
    "#fig.legend(handles, labels, loc='upper center', ncol= 2, bbox_to_anchor=(0.55, 1.1), fontsize=16, scatterpoints=5)\n",
    "\n",
    "# #plt.show()\n",
    "# plt.savefig(\"figures/debunk_vs_others.pdf\", format=\"pdf\", dpi=300, bbox_inches='tight')\n",
    "\n",
    "\n",
    "plt.show()"
   ]
  },
  {
   "cell_type": "markdown",
   "metadata": {},
   "source": [
    "## time series"
   ]
  },
  {
   "cell_type": "code",
   "execution_count": 50,
   "metadata": {
    "scrolled": true
   },
   "outputs": [
    {
     "data": {
      "application/vnd.jupyter.widget-view+json": {
       "model_id": "d97bc09ed480426a9a41265e78b820aa",
       "version_major": 2,
       "version_minor": 0
      },
      "text/plain": [
       "  0%|          | 0/10190 [00:00<?, ?it/s]"
      ]
     },
     "metadata": {},
     "output_type": "display_data"
    },
    {
     "data": {
      "application/vnd.jupyter.widget-view+json": {
       "model_id": "f567e1d76112439493cfec6120c91391",
       "version_major": 2,
       "version_minor": 0
      },
      "text/plain": [
       "  0%|          | 0/333470 [00:00<?, ?it/s]"
      ]
     },
     "metadata": {},
     "output_type": "display_data"
    },
    {
     "data": {
      "application/vnd.jupyter.widget-view+json": {
       "model_id": "ed3bea43e1864c22b8d5ca7916ee65b9",
       "version_major": 2,
       "version_minor": 0
      },
      "text/plain": [
       "  0%|          | 0/1190643 [00:00<?, ?it/s]"
      ]
     },
     "metadata": {},
     "output_type": "display_data"
    },
    {
     "data": {
      "application/vnd.jupyter.widget-view+json": {
       "model_id": "e11e7cb7dad64ee09532441c8e0e9d11",
       "version_major": 2,
       "version_minor": 0
      },
      "text/plain": [
       "  0%|          | 0/527007 [00:00<?, ?it/s]"
      ]
     },
     "metadata": {},
     "output_type": "display_data"
    }
   ],
   "source": [
    "df_fake_claim[\"created_at\"] = df_fake_claim[\"created_at\"].progress_apply(lambda x: pd.Timestamp(x))\n",
    "df_fake_url[\"created_at\"] = df_fake_url[\"created_at\"].progress_apply(lambda x: pd.Timestamp(x)).dt.tz_localize(\"Asia/Tokyo\").dt.tz_convert(\"UTC\")\n",
    "df_reply[\"created_at\"] = df_reply[\"created_at\"].progress_apply(lambda x: pd.Timestamp(x))\n",
    "df_quote[\"created_at\"] = df_quote[\"created_at\"].progress_apply(lambda x: pd.Timestamp(x))"
   ]
  },
  {
   "cell_type": "code",
   "execution_count": 51,
   "metadata": {
    "scrolled": true
   },
   "outputs": [],
   "source": [
    "dict_id_time = df_fake_claim[\"created_at\"].to_dict()\n",
    "dict_id_time_url = df_fake_url[\"created_at\"].to_dict()\n",
    "dict_id_time.update(dict_id_time_url)"
   ]
  },
  {
   "cell_type": "code",
   "execution_count": 52,
   "metadata": {},
   "outputs": [],
   "source": [
    "df_reply[\"created_at_original_tweet\"] = df_reply[\"to_reply_id\"].map(dict_id_time)\n",
    "df_quote[\"created_at_original_tweet\"] = df_quote[\"to_quote_id\"].map(dict_id_time)"
   ]
  },
  {
   "cell_type": "code",
   "execution_count": 53,
   "metadata": {},
   "outputs": [],
   "source": [
    "df_reply[\"interval\"] = df_reply[\"created_at\"] - df_reply[\"created_at_original_tweet\"]\n",
    "df_quote[\"interval\"] = df_quote[\"created_at\"] - df_quote[\"created_at_original_tweet\"]"
   ]
  },
  {
   "cell_type": "code",
   "execution_count": 54,
   "metadata": {},
   "outputs": [
    {
     "data": {
      "application/vnd.jupyter.widget-view+json": {
       "model_id": "c330bb1c7cd649438fc48bbbfded181b",
       "version_major": 2,
       "version_minor": 0
      },
      "text/plain": [
       "  0%|          | 0/1190643 [00:00<?, ?it/s]"
      ]
     },
     "metadata": {},
     "output_type": "display_data"
    },
    {
     "data": {
      "application/vnd.jupyter.widget-view+json": {
       "model_id": "d1ac7fd3e6b94d4ebf3793e05fb67c4e",
       "version_major": 2,
       "version_minor": 0
      },
      "text/plain": [
       "  0%|          | 0/527007 [00:00<?, ?it/s]"
      ]
     },
     "metadata": {},
     "output_type": "display_data"
    }
   ],
   "source": [
    "df_reply[\"interval\"] = df_reply[\"interval\"].progress_apply(lambda x: x.seconds)\n",
    "df_quote[\"interval\"] = df_quote[\"interval\"].progress_apply(lambda x: x.seconds)"
   ]
  },
  {
   "cell_type": "code",
   "execution_count": 55,
   "metadata": {},
   "outputs": [
    {
     "data": {
      "image/png": "[encoded data removed]",
      "text/plain": [
       "<Figure size 360x216 with 1 Axes>"
      ]
     },
     "metadata": {
      "needs_background": "light"
     },
     "output_type": "display_data"
    }
   ],
   "source": [
    "x = df_reply[df_reply[\"pred\"] == 1][\"interval\"] + 1\n",
    "y = df_reply[df_reply[\"pred\"] == 0][\"interval\"] + 1\n",
    "x = x[x.notnull()]\n",
    "y = y[y.notnull()]\n",
    "\n",
    "fig, ax = plt.subplots(figsize=(5,3))\n",
    "hist, bins = np.histogram(x, bins=1000)\n",
    "logbins = np.logspace(np.log10(bins[0]),np.log10(bins[-1]),len(bins))\n",
    "\n",
    "n, bins, patches = ax.hist(\n",
    "    x, cumulative=1, histtype='step', bins=logbins, color='tab:blue', density=True, label=\"Debunking\")\n",
    "\n",
    "hist, bins = np.histogram(y, bins=1000)\n",
    "logbins = np.logspace(np.log10(bins[0]),np.log10(bins[-1]),len(bins))\n",
    "n, bins, patches = ax.hist(\n",
    "    y, cumulative=1, histtype='step', bins=logbins, color='tab:orange', linestyle=\"dashed\", density=True, label=\"Others\")\n",
    "\n",
    "plt.grid()\n",
    "\n",
    "ax.set_xscale('log')\n",
    "ax.tick_params(axis='x', labelsize= 20)\n",
    "ax.tick_params(axis='y', labelsize= 20)\n",
    "ax.set_xlabel(\"Response time (seconds)\", fontsize= 24)\n",
    "#ax.\n",
    "\n",
    "\n",
    "\n",
    "plt.legend(fontsize=16,  loc='upper left')\n",
    "# legend(handles, labels, loc='upper center', ncol= 2, bbox_to_anchor=(0.55, 1.1), fontsize=16, scatterpoints=5)\n",
    "\n",
    "# plt.legend(fontsize=14)\n",
    "#ax2.legend(fontsize=14)\n",
    "ax.set_ylabel(\"CDF\",  fontsize= 24)\n",
    "ax.set_xticks([1, 10, 100, 1000, 10000, 100000])\n",
    "ax.set_yticks([0, 0.2, 0.4, 0.6, 0.8, 1.0])\n",
    "# ax.legend(ax.get_lines(),\\\n",
    "#         [\"a\", b\"\"], fontsize=14)#, bbox_to_anchor=(1.5, 0.5))\n",
    "#ax.set_yscale('log')\n",
    "\n",
    "ax.set_xlim((ax.get_xlim()[0], np.min([x.max(), y.max()])))\n",
    "\n",
    "# plt.savefig(\"figures/response_time_reply.pdf\",\n",
    "#             format=\"pdf\",\n",
    "#             bbox_inches='tight', \n",
    "#            dpi=300)\n",
    "\n",
    "plt.show()"
   ]
  },
  {
   "cell_type": "code",
   "execution_count": 56,
   "metadata": {},
   "outputs": [
    {
     "data": {
      "image/png": "[encoded data removed]",
      "text/plain": [
       "<Figure size 360x216 with 1 Axes>"
      ]
     },
     "metadata": {
      "needs_background": "light"
     },
     "output_type": "display_data"
    }
   ],
   "source": [
    "x = df_quote[df_quote[\"pred\"] == 1][\"interval\"] + 1\n",
    "y = df_quote[df_quote[\"pred\"] == 0][\"interval\"] + 1\n",
    "x = x[x.notnull()]\n",
    "y = y[y.notnull()]\n",
    "\n",
    "fig, ax = plt.subplots(figsize=(5,3))\n",
    "hist, bins = np.histogram(x, bins=1000)\n",
    "logbins = np.logspace(np.log10(bins[0]),np.log10(bins[-1]),len(bins))\n",
    "\n",
    "n, bins, patches = ax.hist(\n",
    "    x, cumulative=1, histtype='step', bins=logbins, color='tab:blue', density=True, label=\"Debunking\")\n",
    "\n",
    "hist, bins = np.histogram(y, bins=1000)\n",
    "logbins = np.logspace(np.log10(bins[0]),np.log10(bins[-1]),len(bins))\n",
    "n, bins, patches = ax.hist(\n",
    "    y, cumulative=1, histtype='step', bins=logbins, color='tab:orange', linestyle=\"dashed\", density=True, label=\"Others\")\n",
    "\n",
    "plt.grid()\n",
    "\n",
    "ax.set_xscale('log')\n",
    "ax.tick_params(axis='x', labelsize= 20)\n",
    "ax.tick_params(axis='y', labelsize= 20)\n",
    "ax.set_xlabel(\"Response time (seconds)\", fontsize= 24)\n",
    "#ax.\n",
    "plt.legend(fontsize=16,  loc='upper left')\n",
    "# legend(handles, labels, loc='upper center', ncol= 2, bbox_to_anchor=(0.55, 1.1), fontsize=16, scatterpoints=5)\n",
    "\n",
    "# plt.legend(fontsize=14)\n",
    "#ax2.legend(fontsize=14)\n",
    "ax.set_ylabel(\"CDF\",  fontsize= 24)\n",
    "ax.set_xticks([1, 10, 100, 1000, 10000, 100000])\n",
    "ax.set_yticks([0, 0.2, 0.4, 0.6, 0.8, 1.0])\n",
    "# ax.legend(ax.get_lines(),\\\n",
    "#         [\"a\", b\"\"], fontsize=14)#, bbox_to_anchor=(1.5, 0.5))\n",
    "#ax.set_yscale('log')\n",
    "\n",
    "\n",
    "ax.set_xlim((ax.get_xlim()[0], np.min([x.max(), y.max()])))\n",
    "\n",
    "# plt.savefig(\"figures/response_time_quote.pdf\",\n",
    "#             format=\"pdf\",\n",
    "#             bbox_inches='tight', \n",
    "#            dpi=300)\n",
    "\n",
    "\n",
    "\n",
    "plt.show()"
   ]
  },
  {
   "cell_type": "code",
   "execution_count": 57,
   "metadata": {},
   "outputs": [
    {
     "data": {
      "text/plain": [
       "(147904213730.5, 0.0)"
      ]
     },
     "execution_count": 57,
     "metadata": {},
     "output_type": "execute_result"
    }
   ],
   "source": [
    "from scipy.stats import mannwhitneyu\n",
    "U1, p = mannwhitneyu(df_reply[df_reply[\"pred\"] == 1][\"interval\"], df_reply[df_reply[\"pred\"] == 0][\"interval\"])\n",
    "U1, p"
   ]
  },
  {
   "cell_type": "code",
   "execution_count": 58,
   "metadata": {},
   "outputs": [
    {
     "data": {
      "text/plain": [
       "(22453127364.5, 0.0)"
      ]
     },
     "execution_count": 58,
     "metadata": {},
     "output_type": "execute_result"
    }
   ],
   "source": [
    "from scipy.stats import mannwhitneyu\n",
    "U1, p = mannwhitneyu(df_quote[df_quote[\"pred\"] == 1][\"interval\"], df_quote[df_quote[\"pred\"] == 0][\"interval\"])\n",
    "U1, p"
   ]
  }
 ],
 "metadata": {
  "kernelspec": {
   "display_name": "Python 3",
   "language": "python",
   "name": "python3"
  },
  "language_info": {
   "codemirror_mode": {
    "name": "ipython",
    "version": 3
   },
   "file_extension": ".py",
   "mimetype": "text/x-python",
   "name": "python",
   "nbconvert_exporter": "python",
   "pygments_lexer": "ipython3",
   "version": "3.8.5"
  }
 },
 "nbformat": 4,
 "nbformat_minor": 4
}
